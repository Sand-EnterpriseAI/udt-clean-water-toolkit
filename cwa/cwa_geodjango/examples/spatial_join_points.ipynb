{
 "cells": [
  {
   "cell_type": "markdown",
   "metadata": {},
   "source": [
    "# Spatial Join of Points to Lines\n",
    "\n",
    "This notebook demonstrates how to perform a spatial join between point and line geometries. It's a common task in GIS when you need to associate assets (like hydrants or meters) with the pipes they are connected to.\n",
    "\n",
    "The process involves:\n",
    "1. Loading line data (e.g., water mains).\n",
    "2. Loading point data (e.g., hydrants, valves).\n",
    "3. Performing a spatial join to find which lines each point intersects with.\n",
    "4. For points that don't directly intersect a line, performing a buffered spatial join to find the nearest line within a certain tolerance."
   ]
  },
  {
   "cell_type": "markdown",
   "metadata": {},
   "source": [
    "## 1. Imports"
   ]
  },
  {
   "cell_type": "code",
   "execution_count": null,
   "metadata": {},
   "outputs": [],
   "source": [
    "import numpy as np\n",
    "import pandas as pd\n",
    "import geopandas as gpd\n",
    "from shapely.geometry import Point\n",
    "from shapely.ops import nearest_points\n",
    "import matplotlib.pyplot as plt\n",
    "import os"
   ]
  },
  {
   "cell_type": "markdown",
   "metadata": {},
   "source": [
    "## 2. Configuration\n",
    "\n",
    "Define the layers you want to process and the tolerance for buffered joins."
   ]
  },
  {
   "cell_type": "code",
   "execution_count": null,
   "metadata": {},
   "outputs": [],
   "source": [
    "POINT_LAYERS = [\n",
    "    \"wNetworkMeter\",\n",
    "    \"wChamber\",\n",
    "    \"wNetworkOptValve\",\n",
    "    \"wOperationalSite\",\n",
    "    \"wPressureContValve\",\n",
    "    \"wPressureFitting\",\n",
    "    \"wHydrant\",\n",
    "]\n",
    "\n",
    "# Point layers which require a spatial join with tolerance, tolerance in meters\n",
    "# Needs to be small to limit incorrect matches, but large enough to match assets\n",
    "TOLERANCES = {\"wOperationalSite\": 1, \"wChamber\": 0.5}"
   ]
  },
  {
   "cell_type": "markdown",
   "metadata": {},
   "source": [
    "## 3. Data Loading\n",
    "\n",
    "Here, we'll load the water mains data. You can either load it from the provided sample file or connect to the PostGIS database if you have it running."
   ]
  },
  {
   "cell_type": "code",
   "execution_count": null,
   "metadata": {},
   "outputs": [],
   "source": [
    "# Option 1: Load from the sample GeoPackage file\n",
    "# Make sure the path is correct relative to the notebook's location.\n",
    "shape_file = \"../../data/sample_data.gpkg\" # Using GeoPackage for better compatibility\n",
    "\n",
    "if not os.path.exists(shape_file):\n",
    "    raise FileNotFoundError(f\"Sample data not found at {shape_file}. Please ensure the file exists.\")\n",
    "\n",
    "gdf_mains = gpd.read_file(shape_file, layer=\"wTrunkMain\")\n",
    "gdf_mains = gdf_mains[[\"GISID\", \"geometry\"]]\n",
    "gdf_mains.set_index(\"GISID\", inplace=True)\n",
    "gdf_mains.dropna(subset=[\"geometry\"], inplace=True)\n",
    "\n",
    "print(f\"Loaded {len(gdf_mains)} mains from {shape_file}\")"
   ]
  },
  {
   "cell_type": "markdown",
   "metadata": {},
   "source": [
    "## 4. Helper Functions"
   ]
  },
  {
   "cell_type": "code",
   "execution_count": null,
   "metadata": {},
   "outputs": [],
   "source": [
    "def join_points_on_lines(\n",
    "    points: gpd.GeoDataFrame, lines: gpd.GeoDataFrame, tol: float = None\n",
    ") -> gpd.GeoDataFrame:\n",
    "    \"\"\"Spatial join of points to lines.\"\"\"\n",
    "\n",
    "    p = points[[\"geometry\"]]\n",
    "    l = lines[[\"geometry\"]]\n",
    "\n",
    "    if tol:\n",
    "        # Create circles with radius tol around points\n",
    "        p[\"geometry\"] = gpd.GeoSeries(p[\"geometry\"]).buffer(tol)\n",
    "    \n",
    "    # Spatial join of points (or circles if tol) to lines\n",
    "    df = gpd.sjoin(p, l, how=\"inner\")\n",
    "    df.reset_index(inplace=True)\n",
    "    df.rename(\n",
    "        columns={\n",
    "            \"index\": \"Point\",\n",
    "            \"index_left\": \"Point\",\n",
    "            \"GISID\": \"Point\",\n",
    "            \"index_right\": \"Line\",\n",
    "        },\n",
    "        inplace=True,\n",
    "    )\n",
    "    df = df[[\"Point\", \"Line\"]]\n",
    "\n",
    "    if tol:\n",
    "        # Removal of points which match to multiple lines when using tolerance\n",
    "        df[\"count\"] = df.groupby(\"Point\")[\"Point\"].transform(\"count\")\n",
    "        df = df[df[\"count\"] == 1].drop(columns=\"count\")\n",
    "\n",
    "    return df"
   ]
  },
  {
   "cell_type": "markdown",
   "metadata": {},
   "source": [
    "## 5. Main Processing Loop\n",
    "\n",
    "This loop iterates through each point layer, performs the spatial join, and collects the results."
   ]
  },
  {
   "cell_type": "code",
   "execution_count": null,
   "metadata": {},
   "outputs": [],
   "source": [
    "all_mappings = []\n",
    "\n",
    "for layer in POINT_LAYERS:\n",
    "    print(f\"Processing layer: {layer}\")\n",
    "    try:\n",
    "        gdf_points = gpd.read_file(shape_file, layer=layer)\n",
    "        gdf_points[\"layer\"] = layer\n",
    "        gdf_points.set_index(\"GISID\", inplace=True)\n",
    "        gdf_points.dropna(subset=[\"geometry\"], inplace=True)\n",
    "        print(f\"...read in {len(gdf_points)} records\")\n",
    "\n",
    "        # Perform direct spatial join (no tolerance)\n",
    "        map_point_line = join_points_on_lines(gdf_points, gdf_mains, None)\n",
    "\n",
    "        # Perform buffered join for points that didn't match\n",
    "        if TOLERANCES.get(layer):\n",
    "            print(\"  Finding points within tolerance...\")\n",
    "            # Filter to points that were not already joined\n",
    "            unjoined_points = gdf_points[~gdf_points.index.isin(map_point_line[\"Point\"])]\n",
    "            \n",
    "            if not unjoined_points.empty:\n",
    "                gdf_tol = join_points_on_lines(\n",
    "                    unjoined_points, gdf_mains, tol=TOLERANCES.get(layer)\n",
    "                )\n",
    "                print(f\"  ...found {len(gdf_tol)} additional matches with tolerance.\")\n",
    "                map_point_line = pd.concat([map_point_line, gdf_tol], ignore_index=True)\n",
    "\n",
    "        print(f\"...found {len(map_point_line)} total intersections for {layer}\")\n",
    "        map_point_line[\"layer\"] = layer\n",
    "        all_mappings.append(map_point_line)\n",
    "\n",
    "    except Exception as e:\n",
    "        print(f\"Could not process layer {layer}. It might not exist in the shapefile. Error: {e}\")\n",
    "\n",
    "# Combine all results into a single DataFrame\n",
    "if all_mappings:\n",
    "    final_map = pd.concat(all_mappings, ignore_index=True)\n",
    "    print(\"\\nProcessing complete.\")\n",
    "    print(f\"Total mappings found: {len(final_map)}\")\n",
    "else:\n",
    "    print(\"\\nProcessing complete. No mappings found.\")\n",
    "    final_map = pd.DataFrame()"
   ]
  },
  {
   "cell_type": "markdown",
   "metadata": {},
   "source": [
    "## 6. View and Save Results"
   ]
  },
  {
   "cell_type": "code",
   "execution_count": null,
   "metadata": {},
   "outputs": [],
   "source": [
    "if not final_map.empty:\n",
    "    print(final_map.head())\n",
    "    \n",
    "    # Save the results to a CSV file\n",
    "    output_path = \"../../results/point_to_line_mappings.csv\"\n",
    "    os.makedirs(os.path.dirname(output_path), exist_ok=True)\n",
    "    final_map.to_csv(output_path, index=False)\n",
    "    print(f\"\\nResults saved to {output_path}\")"
   ]
  }
 ],
 "metadata": {
  "kernelspec": {
   "display_name": "Python 3",
   "language": "python",
   "name": "python3"
  },
  "language_info": {
   "codemirror_mode": {
    "name": "ipython",
    "version": 3
   },
   "file_extension": ".py",
   "mimetype": "text/x-python",
   "name": "python",
   "nbconvert_exporter": "python",
   "pygments_lexer": "ipython3",
   "version": "3.9.7"
  }
 },
 "nbformat": 4,
 "nbformat_minor": 4
}
